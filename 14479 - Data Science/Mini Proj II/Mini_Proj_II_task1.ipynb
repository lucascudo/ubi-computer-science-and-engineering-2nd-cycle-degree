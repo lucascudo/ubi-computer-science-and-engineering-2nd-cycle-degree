{
  "nbformat": 4,
  "nbformat_minor": 0,
  "metadata": {
    "colab": {
      "provenance": []
    },
    "kernelspec": {
      "name": "python3",
      "display_name": "Python 3"
    },
    "language_info": {
      "name": "python"
    }
  },
  "cells": [
    {
      "cell_type": "markdown",
      "source": [
        "0. Pré-requisitos"
      ],
      "metadata": {
        "id": "72ohM7eYNIde"
      }
    },
    {
      "cell_type": "code",
      "source": [
        "!pip install selenium\n",
        "import os\n",
        "from google.colab import drive\n",
        "\n",
        "drive.mount('/content/drive', force_remount=True)\n",
        "\n",
        "root_path = \"/content/drive/My Drive/Colab Notebooks/data\"\n",
        "img_path = os.path.join(root_path, \"img\")\n",
        "for dir in [root_path, img_path]:\n",
        "  os.mkdir(dir) if not os.path.exists(dir) else None"
      ],
      "metadata": {
        "colab": {
          "base_uri": "https://localhost:8080/"
        },
        "id": "c96FmRVL6LpC",
        "outputId": "fbe474db-6cf3-42b6-d3cb-70fc9de4ba75"
      },
      "execution_count": 3,
      "outputs": [
        {
          "output_type": "stream",
          "name": "stdout",
          "text": [
            "Collecting selenium\n",
            "  Downloading selenium-4.19.0-py3-none-any.whl (10.5 MB)\n",
            "\u001b[2K     \u001b[90m━━━━━━━━━━━━━━━━━━━━━━━━━━━━━━━━━━━━━━━━\u001b[0m \u001b[32m10.5/10.5 MB\u001b[0m \u001b[31m18.8 MB/s\u001b[0m eta \u001b[36m0:00:00\u001b[0m\n",
            "\u001b[?25hRequirement already satisfied: urllib3[socks]<3,>=1.26 in /usr/local/lib/python3.10/dist-packages (from selenium) (2.0.7)\n",
            "Collecting trio~=0.17 (from selenium)\n",
            "  Downloading trio-0.25.0-py3-none-any.whl (467 kB)\n",
            "\u001b[2K     \u001b[90m━━━━━━━━━━━━━━━━━━━━━━━━━━━━━━━━━━━━━━━━\u001b[0m \u001b[32m467.2/467.2 kB\u001b[0m \u001b[31m39.2 MB/s\u001b[0m eta \u001b[36m0:00:00\u001b[0m\n",
            "\u001b[?25hCollecting trio-websocket~=0.9 (from selenium)\n",
            "  Downloading trio_websocket-0.11.1-py3-none-any.whl (17 kB)\n",
            "Requirement already satisfied: certifi>=2021.10.8 in /usr/local/lib/python3.10/dist-packages (from selenium) (2024.2.2)\n",
            "Requirement already satisfied: typing_extensions>=4.9.0 in /usr/local/lib/python3.10/dist-packages (from selenium) (4.10.0)\n",
            "Requirement already satisfied: attrs>=23.2.0 in /usr/local/lib/python3.10/dist-packages (from trio~=0.17->selenium) (23.2.0)\n",
            "Requirement already satisfied: sortedcontainers in /usr/local/lib/python3.10/dist-packages (from trio~=0.17->selenium) (2.4.0)\n",
            "Requirement already satisfied: idna in /usr/local/lib/python3.10/dist-packages (from trio~=0.17->selenium) (3.6)\n",
            "Collecting outcome (from trio~=0.17->selenium)\n",
            "  Downloading outcome-1.3.0.post0-py2.py3-none-any.whl (10 kB)\n",
            "Requirement already satisfied: sniffio>=1.3.0 in /usr/local/lib/python3.10/dist-packages (from trio~=0.17->selenium) (1.3.1)\n",
            "Requirement already satisfied: exceptiongroup in /usr/local/lib/python3.10/dist-packages (from trio~=0.17->selenium) (1.2.0)\n",
            "Collecting wsproto>=0.14 (from trio-websocket~=0.9->selenium)\n",
            "  Downloading wsproto-1.2.0-py3-none-any.whl (24 kB)\n",
            "Requirement already satisfied: pysocks!=1.5.7,<2.0,>=1.5.6 in /usr/local/lib/python3.10/dist-packages (from urllib3[socks]<3,>=1.26->selenium) (1.7.1)\n",
            "Collecting h11<1,>=0.9.0 (from wsproto>=0.14->trio-websocket~=0.9->selenium)\n",
            "  Downloading h11-0.14.0-py3-none-any.whl (58 kB)\n",
            "\u001b[2K     \u001b[90m━━━━━━━━━━━━━━━━━━━━━━━━━━━━━━━━━━━━━━━━\u001b[0m \u001b[32m58.3/58.3 kB\u001b[0m \u001b[31m8.1 MB/s\u001b[0m eta \u001b[36m0:00:00\u001b[0m\n",
            "\u001b[?25hInstalling collected packages: outcome, h11, wsproto, trio, trio-websocket, selenium\n",
            "Successfully installed h11-0.14.0 outcome-1.3.0.post0 selenium-4.19.0 trio-0.25.0 trio-websocket-0.11.1 wsproto-1.2.0\n",
            "Mounted at /content/drive\n"
          ]
        }
      ]
    },
    {
      "cell_type": "markdown",
      "source": [
        "1. Extraia informação de uma página web estática à sua escolha (https://www.meteoestrela.pt/previsoes/)."
      ],
      "metadata": {
        "id": "U88qIisy6M6M"
      }
    },
    {
      "cell_type": "code",
      "source": [
        "import requests\n",
        "import json\n",
        "import pandas\n",
        "from bs4 import BeautifulSoup\n",
        "from IPython.display import HTML\n",
        "\n",
        "base_url = \"https://www.meteoestrela.pt/previsoes/\"\n",
        "\n",
        "def download_image(url, id):\n",
        "  try:\n",
        "    filename = url.split(\"/\")[-1]\n",
        "    if \"?\" in filename:\n",
        "      filename = filename.split(\"?\")[0]\n",
        "    filename = id + \".\" + filename.split(\".\")[-1]\n",
        "    img_response = requests.get(url)\n",
        "    if img_response.status_code < 200 or img_response.status_code > 299:\n",
        "      raise Exception\n",
        "    with open(os.path.join(img_path, filename), \"wb\") as image_file: # Open a new file in binary mode\n",
        "      image_file.write(img_response.content)\n",
        "    return filename\n",
        "  except:\n",
        "    print(\"Error downloading: \" + url)\n",
        "    return None\n",
        "\n",
        "def extract(article, id):\n",
        "  image_url = json.loads(article.select(\".blog-image\")[0].get(\"data-mk-image-src-set\"))[\"default\"]\n",
        "  image = {\n",
        "      \"local\": download_image(image_url, str(id)),\n",
        "      \"remote\": image_url\n",
        "  }\n",
        "  title = article.select(\".the-title > a\")[0]\n",
        "  return {\n",
        "      \"id\": id,\n",
        "      \"date\": article.select(\".mk-blog-meta-wrapper > time\")[0].get(\"datetime\"),\n",
        "      \"title\": title.text.strip(),\n",
        "      \"headline\": article.select(\".the-excerpt > p\")[0].text.strip(),\n",
        "      \"url\": title.get(\"href\"),\n",
        "      \"image\": image\n",
        "  }\n",
        "\n",
        "response = requests.get(base_url)\n",
        "soup = BeautifulSoup(response.content, 'html.parser')\n",
        "news = []\n",
        "id = 1\n",
        "for article in soup.select('.blog-grid-holder'):\n",
        "  news.append(extract(article, id))\n",
        "  id += 1\n",
        "with open(os.path.join(root_path, \"meteoestrela.pt_previsoes.json\"), \"w\") as json_file:\n",
        "  json.dump(news, json_file)\n",
        "\n",
        "df = pandas.DataFrame(news)\n",
        "pandas.set_option('display.max_colwidth', None)\n",
        "image_formatter = lambda i: f'<img src=\"{i[\"remote\"]}\" width=\"128px\">'\n",
        "display(HTML(df.to_html(escape=False, formatters=dict(image=image_formatter))))"
      ],
      "metadata": {
        "colab": {
          "base_uri": "https://localhost:8080/",
          "height": 1000
        },
        "id": "JtxyMDbUf7rf",
        "outputId": "b7290f01-1146-463e-f910-ade5689ba0fe"
      },
      "execution_count": 5,
      "outputs": [
        {
          "output_type": "display_data",
          "data": {
            "text/plain": [
              "<IPython.core.display.HTML object>"
            ],
            "text/html": [
              "<table border=\"1\" class=\"dataframe\">\n",
              "  <thead>\n",
              "    <tr style=\"text-align: right;\">\n",
              "      <th></th>\n",
              "      <th>id</th>\n",
              "      <th>date</th>\n",
              "      <th>title</th>\n",
              "      <th>headline</th>\n",
              "      <th>url</th>\n",
              "      <th>image</th>\n",
              "    </tr>\n",
              "  </thead>\n",
              "  <tbody>\n",
              "    <tr>\n",
              "      <th>0</th>\n",
              "      <td>1</td>\n",
              "      <td>2024-03-27</td>\n",
              "      <td>Novo agravamento do estado do tempo Quinta-feira!</td>\n",
              "      <td>Agravamento do estado do tempo na Quinta-feira com chuva pontualmente forte e persistente principalmente no Norte e Centro.</td>\n",
              "      <td>https://www.meteoestrela.pt/previsoes/2024/03/27/novo-agravamento-do-estado-do-tempo-quinta-feira/</td>\n",
              "      <td><img src=\"https://www.meteoestrela.pt/wp-content/uploads/bfi_thumb/75456787_2623996144343873_2902319163814969344_o-oibjqaete87ymghyfn4elxf1y2cazjeorgzaghpkc8.jpg\" width=\"128px\"></td>\n",
              "    </tr>\n",
              "    <tr>\n",
              "      <th>1</th>\n",
              "      <td>2</td>\n",
              "      <td>2024-03-23</td>\n",
              "      <td>Muito frio e mais um bom nevão na Serra da Estrela na próxima semana!</td>\n",
              "      <td>Mudança drástica do estado do tempo na Segunda-feira com uma descida bastante acentuada das temperaturas, voltamos a ter temperaturas negativas nas montanhas do Norte e Centro. São esperados [...]</td>\n",
              "      <td>https://www.meteoestrela.pt/previsoes/2024/03/23/muito-frio-e-mais-um-bom-nevao-na-serra-da-estrela-na-proxima-semana/</td>\n",
              "      <td><img src=\"https://www.meteoestrela.pt/wp-content/uploads/bfi_thumb/20240224_105303-scaled-qkhoxt4c324vrg91120s4wqlsx8vxudz1ftxk8psfs.jpg\" width=\"128px\"></td>\n",
              "    </tr>\n",
              "    <tr>\n",
              "      <th>2</th>\n",
              "      <td>3</td>\n",
              "      <td>2024-03-13</td>\n",
              "      <td>Temperaturas amenas para os próximos dias!</td>\n",
              "      <td>Temperaturas amenas para os próximos dias com alguns chuviscos no Minho e Douro Litoral podendo chegar às regiões do Interior.</td>\n",
              "      <td>https://www.meteoestrela.pt/previsoes/2024/03/13/temperaturas-amenas-para-os-proximos-dias/</td>\n",
              "      <td><img src=\"https://www.meteoestrela.pt/wp-content/uploads/bfi_thumb/20240310_151855-1-scaled-ql599utygv5p8p4llnr0fqgap38mrf9cwn29kwolrs.jpg\" width=\"128px\"></td>\n",
              "    </tr>\n",
              "    <tr>\n",
              "      <th>3</th>\n",
              "      <td>4</td>\n",
              "      <td>2024-03-04</td>\n",
              "      <td>Chuva forte, vento e neve na Quinta-feira! Esperado grande nevão na Serra da Estrela</td>\n",
              "      <td>O Inverno chegou tarde mas chegou, vamos ter um final semana tipicamente Invernal com muita chuva, vento e mais neve nas montanhas!</td>\n",
              "      <td>https://www.meteoestrela.pt/previsoes/2024/03/04/chuva-forte-vento-e-neve-na-quinta-feira/</td>\n",
              "      <td><img src=\"https://www.meteoestrela.pt/wp-content/uploads/bfi_thumb/20240224_111049-scaled-qkpnxw0x6rz3u6brxnkqa57prpqi4x15whokjz8jlk.jpg\" width=\"128px\"></td>\n",
              "    </tr>\n",
              "    <tr>\n",
              "      <th>4</th>\n",
              "      <td>5</td>\n",
              "      <td>2024-02-28</td>\n",
              "      <td>Regresso da chuva e da neve para o fim de semana!</td>\n",
              "      <td>Continuamos com tempo frio normal para a época pois afinal estamos no Inverno. Vamos ter novamente instabilidade com o regresso da chuva e da neve às montanhas nos próximos dias.</td>\n",
              "      <td>https://www.meteoestrela.pt/previsoes/2024/02/28/regresso-da-chuva-e-da-neve-para-o-fim-de-semana/</td>\n",
              "      <td><img src=\"https://www.meteoestrela.pt/wp-content/uploads/bfi_thumb/20240224_105303-scaled-qkhoxt4c324vrg91120s4wqlsx8vxudz1ftxk8psfs.jpg\" width=\"128px\"></td>\n",
              "    </tr>\n",
              "    <tr>\n",
              "      <th>5</th>\n",
              "      <td>6</td>\n",
              "      <td>2024-02-26</td>\n",
              "      <td>Tempo frio durante a semana!</td>\n",
              "      <td>Semana com tempo frio devido a uma massa de ar polar com as temperaturas a descerem para valores negativos em algumas localidades do Norte e Centro do País,</td>\n",
              "      <td>https://www.meteoestrela.pt/previsoes/2024/02/26/tempo-frio-durante-a-semana/</td>\n",
              "      <td><img src=\"https://www.meteoestrela.pt/wp-content/uploads/bfi_thumb/covao-dos-conchos-01-o2avm68m6v36uwkpye3bznqyisxvlpo8ejlm29xn3s.png\" width=\"128px\"></td>\n",
              "    </tr>\n",
              "    <tr>\n",
              "      <th>6</th>\n",
              "      <td>7</td>\n",
              "      <td>2024-02-18</td>\n",
              "      <td>Regresso do frio, chuva e alguma neve nas montanhas!</td>\n",
              "      <td>Como já tinha referido este mês de Fevereiro tem duas \"faces\", depois deste tempo Primaveril regressa o tempo mais frio com chuva e alguma neve nas montanhas, assim na Quinta-feira já são [...]</td>\n",
              "      <td>https://www.meteoestrela.pt/previsoes/2024/02/18/regresso-do-frio-chuva-e-alguma-neve-nas-montanhas/</td>\n",
              "      <td><img src=\"https://www.meteoestrela.pt/wp-content/uploads/bfi_thumb/17499586_1501618416546149_7374580100810596926_n-o2avm0ll1uvgx8swvbnkkp66yhpobj1udrop6m6054.jpg\" width=\"128px\"></td>\n",
              "    </tr>\n",
              "    <tr>\n",
              "      <th>7</th>\n",
              "      <td>8</td>\n",
              "      <td>2024-02-13</td>\n",
              "      <td>Voltamos a temperaturas máximas que podem chegar aos 22º/23ºc! Chuva na Quinta-feira.</td>\n",
              "      <td>Depois deste episódio Invernal com neve as temperaturas do ar voltam a subir para valores acima da média, assim voltamos a temperaturas máximas que podem chegar aos 22º/23ºc j</td>\n",
              "      <td>https://www.meteoestrela.pt/previsoes/2024/02/13/voltamos-a-temperaturas-maximas-que-podem-chegar-aos-22o-23oc-chuva-na-quinta-feira/</td>\n",
              "      <td><img src=\"https://www.meteoestrela.pt/wp-content/uploads/bfi_thumb/neblina-serra-1-o2avh12esi1pbq1ozo1tugh5hwakhc94132yirk75k.jpg\" width=\"128px\"></td>\n",
              "    </tr>\n",
              "    <tr>\n",
              "      <th>8</th>\n",
              "      <td>9</td>\n",
              "      <td>2024-02-06</td>\n",
              "      <td>Regresso do Inverno com chuva, vento forte e neve!</td>\n",
              "      <td>Como já tinha sido adiantado a alguns dias vamos ter uma mudança radical do estado do tempo com o regresso do \"Inverno\". Assim vamos ter muita chuva, vento e neve nas montanhas nos próximos dias!</td>\n",
              "      <td>https://www.meteoestrela.pt/previsoes/2024/02/06/regresso-do-inverno-com-chuva-vento-forte-e-neve/</td>\n",
              "      <td><img src=\"https://www.meteoestrela.pt/wp-content/uploads/bfi_thumb/75456787_2623996144343873_2902319163814969344_o-oibjqaete87ymghyfn4elxf1y2cazjeorgzaghpkc8.jpg\" width=\"128px\"></td>\n",
              "    </tr>\n",
              "    <tr>\n",
              "      <th>9</th>\n",
              "      <td>10</td>\n",
              "      <td>2024-01-30</td>\n",
              "      <td>Continuação tempo seco com descida da temperatura. O Carnaval poderá ser “molhado”!</td>\n",
              "      <td>Esta situação de bloqueio tudo indica que vai manter-se pelo menos até dia 7 de Fevereiro, depois disso tudo indica que o Anticiclone vá perdendo \"força\" e se vá deslocar mais para Sul [...]</td>\n",
              "      <td>https://www.meteoestrela.pt/previsoes/2024/01/30/continuacao-tempo-seco-com-descida-da-temperatura-o-carnaval-podera-ser-molhado/</td>\n",
              "      <td><img src=\"https://www.meteoestrela.pt/wp-content/uploads/bfi_thumb/e689b7be43da8349d587127328003c4a_xl-plv6h22944rvce6cz432acllo68u9os9e3pv004oc8.jpg\" width=\"128px\"></td>\n",
              "    </tr>\n",
              "  </tbody>\n",
              "</table>"
            ]
          },
          "metadata": {}
        }
      ]
    }
  ]
}